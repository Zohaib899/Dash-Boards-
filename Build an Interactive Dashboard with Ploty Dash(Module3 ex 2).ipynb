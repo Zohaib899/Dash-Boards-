{
 "cells": [
  {
   "cell_type": "code",
   "execution_count": 1,
   "id": "1eee95a0-d39d-4b46-9516-47553f323cb8",
   "metadata": {},
   "outputs": [],
   "source": [
    "import dash\n",
    "from dash import dcc\n",
    "from dash import html\n",
    "from dash.dependencies import Input, Output\n",
    "import plotly.express as px\n",
    "import pandas as pd\n",
    "import numpy as np"
   ]
  },
  {
   "cell_type": "code",
   "execution_count": 2,
   "id": "ecb74e12-8ece-40c5-b73f-cdfb580890cd",
   "metadata": {},
   "outputs": [
    {
     "data": {
      "text/html": [
       "<div>\n",
       "<style scoped>\n",
       "    .dataframe tbody tr th:only-of-type {\n",
       "        vertical-align: middle;\n",
       "    }\n",
       "\n",
       "    .dataframe tbody tr th {\n",
       "        vertical-align: top;\n",
       "    }\n",
       "\n",
       "    .dataframe thead th {\n",
       "        text-align: right;\n",
       "    }\n",
       "</style>\n",
       "<table border=\"1\" class=\"dataframe\">\n",
       "  <thead>\n",
       "    <tr style=\"text-align: right;\">\n",
       "      <th></th>\n",
       "      <th>Unnamed: 0</th>\n",
       "      <th>Flight Number</th>\n",
       "      <th>Launch Site</th>\n",
       "      <th>class</th>\n",
       "      <th>Payload Mass (kg)</th>\n",
       "      <th>Booster Version</th>\n",
       "      <th>Booster Version Category</th>\n",
       "    </tr>\n",
       "  </thead>\n",
       "  <tbody>\n",
       "    <tr>\n",
       "      <th>0</th>\n",
       "      <td>0</td>\n",
       "      <td>1</td>\n",
       "      <td>CCAFS LC-40</td>\n",
       "      <td>0</td>\n",
       "      <td>0.0</td>\n",
       "      <td>F9 v1.0  B0003</td>\n",
       "      <td>v1.0</td>\n",
       "    </tr>\n",
       "    <tr>\n",
       "      <th>1</th>\n",
       "      <td>1</td>\n",
       "      <td>2</td>\n",
       "      <td>CCAFS LC-40</td>\n",
       "      <td>0</td>\n",
       "      <td>0.0</td>\n",
       "      <td>F9 v1.0  B0004</td>\n",
       "      <td>v1.0</td>\n",
       "    </tr>\n",
       "    <tr>\n",
       "      <th>2</th>\n",
       "      <td>2</td>\n",
       "      <td>3</td>\n",
       "      <td>CCAFS LC-40</td>\n",
       "      <td>0</td>\n",
       "      <td>525.0</td>\n",
       "      <td>F9 v1.0  B0005</td>\n",
       "      <td>v1.0</td>\n",
       "    </tr>\n",
       "    <tr>\n",
       "      <th>3</th>\n",
       "      <td>3</td>\n",
       "      <td>4</td>\n",
       "      <td>CCAFS LC-40</td>\n",
       "      <td>0</td>\n",
       "      <td>500.0</td>\n",
       "      <td>F9 v1.0  B0006</td>\n",
       "      <td>v1.0</td>\n",
       "    </tr>\n",
       "    <tr>\n",
       "      <th>4</th>\n",
       "      <td>4</td>\n",
       "      <td>5</td>\n",
       "      <td>CCAFS LC-40</td>\n",
       "      <td>0</td>\n",
       "      <td>677.0</td>\n",
       "      <td>F9 v1.0  B0007</td>\n",
       "      <td>v1.0</td>\n",
       "    </tr>\n",
       "  </tbody>\n",
       "</table>\n",
       "</div>"
      ],
      "text/plain": [
       "   Unnamed: 0  Flight Number  Launch Site  class  Payload Mass (kg)  \\\n",
       "0           0              1  CCAFS LC-40      0                0.0   \n",
       "1           1              2  CCAFS LC-40      0                0.0   \n",
       "2           2              3  CCAFS LC-40      0              525.0   \n",
       "3           3              4  CCAFS LC-40      0              500.0   \n",
       "4           4              5  CCAFS LC-40      0              677.0   \n",
       "\n",
       "  Booster Version Booster Version Category  \n",
       "0  F9 v1.0  B0003                     v1.0  \n",
       "1  F9 v1.0  B0004                     v1.0  \n",
       "2  F9 v1.0  B0005                     v1.0  \n",
       "3  F9 v1.0  B0006                     v1.0  \n",
       "4  F9 v1.0  B0007                     v1.0  "
      ]
     },
     "execution_count": 2,
     "metadata": {},
     "output_type": "execute_result"
    }
   ],
   "source": [
    "url = 'https://cf-courses-data.s3.us.cloud-object-storage.appdomain.cloud/IBM-DS0321EN-SkillsNetwork/datasets/spacex_launch_dash.csv'\n",
    "df = pd.read_csv(url)\n",
    "df.head()"
   ]
  },
  {
   "cell_type": "code",
   "execution_count": 3,
   "id": "a133a64a-914c-475b-98c9-e932b7ff98b5",
   "metadata": {},
   "outputs": [
    {
     "name": "stdout",
     "output_type": "stream",
     "text": [
      "0.0 9600.0\n"
     ]
    }
   ],
   "source": [
    "min_payload = df['Payload Mass (kg)'].min()\n",
    "max_payload = df['Payload Mass (kg)'].max()\n",
    "print(min_payload,max_payload)"
   ]
  },
  {
   "cell_type": "code",
   "execution_count": 4,
   "id": "52dff33d-3b5d-4a05-9f5b-4a5ad673e674",
   "metadata": {},
   "outputs": [
    {
     "data": {
      "text/html": [
       "\n",
       "        <iframe\n",
       "            width=\"100%\"\n",
       "            height=\"650\"\n",
       "            src=\"http://127.0.0.1:8053/\"\n",
       "            frameborder=\"0\"\n",
       "            allowfullscreen\n",
       "            \n",
       "        ></iframe>\n",
       "        "
      ],
      "text/plain": [
       "<IPython.lib.display.IFrame at 0x1d8aa0b8800>"
      ]
     },
     "metadata": {},
     "output_type": "display_data"
    }
   ],
   "source": [
    "app = dash.Dash(__name__)\n",
    "\n",
    "app.layout = html.Div([\n",
    "    html.H1('SpaceX Launch Records Dashboard',style={'textAlign':'center','font-size':'20px','color':'black'}),\n",
    "    html.Div(dcc.Dropdown(id='site-dropdown',options=[\n",
    "                          {'label':'All Sites','value':'All Sites'},\n",
    "                          {'label':'CCAFS LC-40','value':'CCAFS LC-40'},\n",
    "                         {'label':'CCAFS SLC-40','value':'CCAFS SLC-40'},\n",
    "                         {'label':'KSC LC-39A','value':'KSC LC-39A'},\n",
    "                         {'label':'VAFB SLC-4E','value':'VAFB SLC-4E'}],value='All Sites',placeholder='Select a Launch Site',\n",
    "                          style={'font-size':'12px','color':'red'},searchable=True)\n",
    "        \n",
    "    ),\n",
    "    dcc.RangeSlider(id='payload-slider',\n",
    "                        min=min_payload, max=max_payload, step=1000,\n",
    "                        marks={i: f'{i} kg' for i in range(int(min_payload), int(max_payload) + 1000, 1000)},\n",
    "                        value=[min_payload, max_payload]\n",
    "                        ),\n",
    "    dcc.Graph(id='success-pie-chart'),\n",
    "    dcc.Graph(id='payload-success-scatter-chart')\n",
    "    \n",
    "])\n",
    "\n",
    "@app.callback(\n",
    "    Output(component_id='success-pie-chart', component_property='figure'),\n",
    "    Input(component_id='site-dropdown', component_property='value')\n",
    ")\n",
    "def update_pie_chart(selected_site):\n",
    "    if selected_site == 'ALL':\n",
    "        # Data for all sites\n",
    "        success_counts = df['class'].value_counts()\n",
    "        fig = px.pie(values=success_counts, \n",
    "                     names=['Failure', 'Success'], \n",
    "                     title='Total Success and Failure for All Sites')\n",
    "    else:\n",
    "        # Filter data by selected site\n",
    "        filtered_df = df[df['Launch Site'] == selected_site]\n",
    "        success_counts = filtered_df['class'].value_counts()\n",
    "        if success_counts.empty:\n",
    "            success_counts = [0, 0]  # Handle empty dataframe case\n",
    "        else:\n",
    "            success_counts = [success_counts.get(0, 0), success_counts.get(1, 0)]  # Ensure correct handling of counts\n",
    "        fig = px.pie(values=success_counts, \n",
    "                     names=['Failure', 'Success'], \n",
    "                     title=f'Success and Failure for {selected_site}')\n",
    "    \n",
    "    return fig\n",
    "\n",
    "@app.callback(\n",
    "    Output(component_id='payload-success-scatter-chart', component_property='figure'),\n",
    "    [Input(component_id='site-dropdown', component_property='value'),\n",
    "     Input(component_id='payload-slider', component_property='value')]\n",
    ")\n",
    "def update_scatter_plot(selected_site, payload_range):\n",
    "    filtered_df = df[(df['Payload Mass (kg)'] >= payload_range[0]) & \n",
    "                     (df['Payload Mass (kg)'] <= payload_range[1])]\n",
    "\n",
    "    if selected_site != 'ALL':\n",
    "        filtered_df = filtered_df[filtered_df['Launch Site'] == selected_site]\n",
    "    \n",
    "    fig = px.scatter(filtered_df, x='Payload Mass (kg)', y='class', \n",
    "                     color='Booster Version',\n",
    "                     title=f'Payload vs. Success for {selected_site}')\n",
    "    \n",
    "    return fig\n",
    "    \n",
    "if __name__ == '__main__':\n",
    "    app.run_server(port=8053)\n"
   ]
  },
  {
   "cell_type": "code",
   "execution_count": null,
   "id": "9c2eee34-b391-4368-a6bf-d63a18695150",
   "metadata": {},
   "outputs": [],
   "source": []
  }
 ],
 "metadata": {
  "kernelspec": {
   "display_name": "Python 3 (ipykernel)",
   "language": "python",
   "name": "python3"
  },
  "language_info": {
   "codemirror_mode": {
    "name": "ipython",
    "version": 3
   },
   "file_extension": ".py",
   "mimetype": "text/x-python",
   "name": "python",
   "nbconvert_exporter": "python",
   "pygments_lexer": "ipython3",
   "version": "3.12.4"
  }
 },
 "nbformat": 4,
 "nbformat_minor": 5
}
